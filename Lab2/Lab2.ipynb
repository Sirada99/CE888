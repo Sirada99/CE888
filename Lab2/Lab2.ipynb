{
  "nbformat": 4,
  "nbformat_minor": 0,
  "metadata": {
    "colab": {
      "name": "Lab2.ipynb",
      "provenance": [],
      "collapsed_sections": [],
      "authorship_tag": "ABX9TyNNkYUxaRvYb59BdRRBjHfY",
      "include_colab_link": true
    },
    "kernelspec": {
      "name": "python3",
      "display_name": "Python 3"
    }
  },
  "cells": [
    {
      "cell_type": "markdown",
      "metadata": {
        "id": "view-in-github",
        "colab_type": "text"
      },
      "source": [
        "<a href=\"https://colab.research.google.com/github/Sirada99/CE888/blob/master/Lab2.ipynb\" target=\"_parent\"><img src=\"https://colab.research.google.com/assets/colab-badge.svg\" alt=\"Open In Colab\"/></a>"
      ]
    },
    {
      "cell_type": "code",
      "metadata": {
        "id": "1-mBWiWiwWZN",
        "colab_type": "code",
        "colab": {}
      },
      "source": [
        "import matplotlib\n",
        "import pandas as pd\n",
        "import seaborn as sns\n",
        "import numpy as np"
      ],
      "execution_count": 0,
      "outputs": []
    },
    {
      "cell_type": "code",
      "metadata": {
        "id": "U4pyYk1wwaMv",
        "colab_type": "code",
        "outputId": "5aa6b2bc-085f-464b-bfac-a36154a9884e",
        "colab": {
          "base_uri": "https://localhost:8080/",
          "height": 52
        }
      },
      "source": [
        "# Load the data\n",
        "df = pd.read_csv('https://raw.githubusercontent.com/albanda/CE888/master/lab2%20-%20bootstrap/customers.csv')\n",
        "data = df.values.T[1]\n",
        "data"
      ],
      "execution_count": 2,
      "outputs": [
        {
          "output_type": "execute_result",
          "data": {
            "text/plain": [
              "array([ 2.,  8., 20., 13.,  5.,  9., 10.,  8., 22., 10.,  2.,  4.,  7.,\n",
              "        9.])"
            ]
          },
          "metadata": {
            "tags": []
          },
          "execution_count": 2
        }
      ]
    },
    {
      "cell_type": "code",
      "metadata": {
        "id": "INRIIa0NwniZ",
        "colab_type": "code",
        "colab": {}
      },
      "source": [
        "# Checking the notes from the lecture, create here your own bootstrap function:\n",
        "# 1. Create an array of samples of shape (n_iterations, sample_size)\n",
        "# 2. Calculate and save the mean of the array (this is \"data_mean\" that is returned by the function)\n",
        "# 3. In each iteration:\n",
        "# 3.1 Get the data corresponding to that iteration (new_samples[iteration, :])\n",
        "# 3.2 Calculate the mean of the iteration data and store it\n",
        "# (At this point you should have an array of n_iterations values)\n",
        "# 4. Calculate the lower and upper bounds for a 95% CI (hint: check the percentile function on Numpy)\n",
        "# 5. Return data_mean, and the lower and upper bounds of your interval\n",
        "\n",
        "def boostrap_mean(sample, sample_size, n_iterations):\n",
        "  new_samples=np.random.choice(sample,(n_iterations,sample_size),replace=True)\n",
        "  data_mean=np.mean(new_samples)\n",
        "  mean_list=[]\n",
        "  for i in range(len(new_samples)):\n",
        "    up_sample=new_samples[i,:]\n",
        "    sample_mean=np.mean(up_sample)\n",
        "    mean_list.append(sample_mean)\n",
        "\n",
        "  alpha=0.95\n",
        "  p = ((1.0-alpha)/2.0) * 100\n",
        "  lower = np.percentile(mean_list, p)\n",
        "  p = (alpha+((1.0-alpha)/2.0)) * 100\n",
        "  upper = np.percentile(mean_list, p)\n",
        "  return data_mean, lower, upper\n"
      ],
      "execution_count": 0,
      "outputs": []
    },
    {
      "cell_type": "code",
      "metadata": {
        "id": "yzEcgZYrwtjB",
        "colab_type": "code",
        "outputId": "6e021b2b-5306-417e-f512-f4c6ed2d7acb",
        "colab": {
          "base_uri": "https://localhost:8080/",
          "height": 387
        }
      },
      "source": [
        "# Call your bootstrap function and plot the results\n",
        "\n",
        "boots = []\n",
        "for i in range(100, 100000, 1000): #start from 100 to 100000 increase 1000 at a time(100,1100,2100,3100,...)\n",
        "    boot = boostrap_mean(data, data.shape[0], i)\n",
        "    boots.append([i, boot[0], \"mean\"])\n",
        "    boots.append([i, boot[1], \"lower\"])\n",
        "    boots.append([i, boot[2], \"upper\"])\n",
        "\n",
        "df_boot = pd.DataFrame(boots, columns=['Boostrap Iterations', 'Mean', \"Value\"])\n",
        "sns_plot = sns.lmplot(df_boot.columns[0], df_boot.columns[1], data=df_boot, fit_reg=False, hue=\"Value\")\n",
        "\n",
        "sns_plot.axes[0, 0].set_ylim(0,)\n",
        "sns_plot.axes[0, 0].set_xlim(0, 100000)\n",
        "\n",
        "#sns_plot.savefig(\"bootstrap_confidence.png\", bbox_inches='tight')\n",
        "#sns_plot.savefig(\"bootstrap_confidence.pdf\", bbox_inches='tight')"
      ],
      "execution_count": 4,
      "outputs": [
        {
          "output_type": "execute_result",
          "data": {
            "text/plain": [
              "(0, 100000)"
            ]
          },
          "metadata": {
            "tags": []
          },
          "execution_count": 4
        },
        {
          "output_type": "display_data",
          "data": {
            "image/png": "[encoded data removed]",
            "text/plain": [
              "<Figure size 425.125x360 with 1 Axes>"
            ]
          },
          "metadata": {
            "tags": []
          }
        }
      ]
    },
    {
      "cell_type": "code",
      "metadata": {
        "id": "2uEm9uXcw72p",
        "colab_type": "code",
        "colab": {}
      },
      "source": [
        "def boostrap_mean_ci(sample, sample_size, iterations, ci):\n",
        "  new_samples=np.random.choice(sample,(iterations,sample_size),replace=True)\n",
        "  data_mean=np.mean(new_samples)\n",
        "  mean_list=[]\n",
        "  for i in range(len(new_samples)):\n",
        "    up_sample=new_samples[i,:]\n",
        "    sample_mean=np.mean(up_sample)\n",
        "    mean_list.append(sample_mean)\n",
        "\n",
        "  alpha=ci/100\n",
        "  p = ((1.0-alpha)/2.0) * 100\n",
        "  lower = np.percentile(mean_list, p)\n",
        "  p = (alpha+((1.0-alpha)/2.0)) * 100\n",
        "  upper = np.percentile(mean_list, p)\n",
        "  return data_mean, lower, upper"
      ],
      "execution_count": 0,
      "outputs": []
    },
    {
      "cell_type": "code",
      "metadata": {
        "id": "4Y4MaNTaxADZ",
        "colab_type": "code",
        "outputId": "bb4b6870-659d-4d08-ca5c-55e7c11beb5b",
        "colab": {
          "base_uri": "https://localhost:8080/",
          "height": 366
        }
      },
      "source": [
        "boots = []\n",
        "for i in range(100, 100000, 1000):\n",
        "    boot = boostrap_mean_ci(data, data.shape[0], i, 80)\n",
        "    boots.append([i, boot[0], \"mean\"])\n",
        "    boots.append([i, boot[1], \"lower\"])\n",
        "    boots.append([i, boot[2], \"upper\"])\n",
        "\n",
        "df_boot = pd.DataFrame(boots, columns=['Boostrap Iterations', 'Mean', \"Value\"])\n",
        "sns_plot = sns.lmplot(df_boot.columns[0], df_boot.columns[1], data=df_boot, fit_reg=False, hue=\"Value\")\n",
        "\n",
        "sns_plot.axes[0, 0].set_ylim(0,)\n",
        "sns_plot.axes[0, 0].set_xlim(0, 100000)\n",
        "\n",
        "sns_plot.savefig(\"bootstrap_confidence_80.png\", bbox_inches='tight')\n",
        "sns_plot.savefig(\"bootstrap_confidence_80.pdf\", bbox_inches='tight')"
      ],
      "execution_count": 6,
      "outputs": [
        {
          "output_type": "display_data",
          "data": {
            "image/png": "[encoded data removed]",
            "text/plain": [
              "<Figure size 425.125x360 with 1 Axes>"
            ]
          },
          "metadata": {
            "tags": []
          }
        }
      ]
    },
    {
      "cell_type": "code",
      "metadata": {
        "id": "MyA6qBPSLoPZ",
        "colab_type": "code",
        "colab": {}
      },
      "source": [
        "#For vehicles data\n",
        "# Load the data\n",
        "df = pd.read_csv('https://raw.githubusercontent.com/albanda/CE888/master/lab2%20-%20bootstrap/vehicles.csv')"
      ],
      "execution_count": 0,
      "outputs": []
    },
    {
      "cell_type": "code",
      "metadata": {
        "id": "p7THERPsWent",
        "colab_type": "code",
        "colab": {}
      },
      "source": [
        "def perm_test(df, no):\n",
        "    df1=df.values.T[0]\n",
        "    df2=df.values.T[1]\n",
        "    newdf2= df2 [np.logical_not(np.isnan(df2))]\n",
        "    concat = np.concatenate((df1, newdf2))\n",
        "    meandf1=np.mean(df1)\n",
        "    meandf2=np.mean(newdf2)\n",
        "    tobs=np.abs(np.mean(newdf2)-np.mean(df1))\n",
        "    k=0\n",
        "    for j in range(no):\n",
        "        perm = np.random.permutation(concat)\n",
        "        pold = perm[:int(len(perm)-79)]\n",
        "        pnew = perm[int(len(perm)-79):]\n",
        "        k += tobs < np.abs(np.mean(pnew) - np.mean(pold))\n",
        "    pval=k / no\n",
        "    if pval<0.05:\n",
        "        print(\"Reject H0\") \n",
        "    else:\n",
        "        print(\"There is no evidence to reject H0\") "
      ],
      "execution_count": 0,
      "outputs": []
    },
    {
      "cell_type": "code",
      "metadata": {
        "id": "5imLKYRITfaC",
        "colab_type": "code",
        "colab": {
          "base_uri": "https://localhost:8080/",
          "height": 35
        },
        "outputId": "6543d77f-cae2-45b2-bf69-83efbdeff977"
      },
      "source": [
        "perm_test(df, 3000)"
      ],
      "execution_count": 12,
      "outputs": [
        {
          "output_type": "stream",
          "text": [
            "Reject H0\n"
          ],
          "name": "stdout"
        }
      ]
    }
  ]
}
