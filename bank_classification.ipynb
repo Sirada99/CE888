{
  "nbformat": 4,
  "nbformat_minor": 0,
  "metadata": {
    "colab": {
      "name": " bank_classification.ipynb",
      "provenance": [],
      "collapsed_sections": [],
      "authorship_tag": "ABX9TyMpGlzw7eOhlcbhpGNX+uu0",
      "include_colab_link": true
    },
    "kernelspec": {
      "name": "python3",
      "display_name": "Python 3"
    }
  },
  "cells": [
    {
      "cell_type": "markdown",
      "metadata": {
        "id": "view-in-github",
        "colab_type": "text"
      },
      "source": [
        "<a href=\"https://colab.research.google.com/github/Sirada99/CE888/blob/master/bank_classification.ipynb\" target=\"_parent\"><img src=\"https://colab.research.google.com/assets/colab-badge.svg\" alt=\"Open In Colab\"/></a>"
      ]
    },
    {
      "cell_type": "code",
      "metadata": {
        "id": "5j5UKVMv1WRn",
        "colab_type": "code",
        "colab": {}
      },
      "source": [
        "%matplotlib inline\n",
        "import matplotlib\n",
        "import numpy as np\n",
        "import matplotlib.pyplot as plt\n",
        "import pandas as pd\n",
        "import seaborn as sns\n",
        "\n",
        "from sklearn.tree import DecisionTreeRegressor\n",
        "from sklearn.ensemble import RandomForestRegressor, GradientBoostingRegressor\n",
        "from sklearn.linear_model import SGDRegressor, BayesianRidge\n",
        "from sklearn.model_selection import cross_val_score\n",
        "from sklearn.metrics import mean_squared_error as mse\n",
        "from sklearn.metrics import mean_absolute_error as mae\n",
        "from sklearn.metrics import accuracy_score as acc\n",
        "from sklearn.metrics import make_scorer\n",
        "from sklearn.dummy import DummyRegressor, DummyClassifier\n",
        "from sklearn.preprocessing import LabelEncoder\n",
        "from sklearn.model_selection import train_test_split"
      ],
      "execution_count": 0,
      "outputs": []
    },
    {
      "cell_type": "code",
      "metadata": {
        "id": "VPj6yKXW2TMs",
        "colab_type": "code",
        "colab": {
          "base_uri": "https://localhost:8080/",
          "height": 255
        },
        "outputId": "808e69a2-d5d4-4cf4-b8b9-ec652c6dca97"
      },
      "source": [
        "bank=pd.read_csv(\"https://raw.githubusercontent.com/albanda/CE888/master/lab4/bank-additional-full.csv\",delimiter = \";\")\n",
        "print(bank)\n",
        "#bank.head()"
      ],
      "execution_count": 226,
      "outputs": [
        {
          "output_type": "stream",
          "text": [
            "       age          job  marital  ... euribor3m nr.employed    y\n",
            "0       56    housemaid  married  ...     4.857      5191.0   no\n",
            "1       57     services  married  ...     4.857      5191.0   no\n",
            "2       37     services  married  ...     4.857      5191.0   no\n",
            "3       40       admin.  married  ...     4.857      5191.0   no\n",
            "4       56     services  married  ...     4.857      5191.0   no\n",
            "...    ...          ...      ...  ...       ...         ...  ...\n",
            "41183   73      retired  married  ...     1.028      4963.6  yes\n",
            "41184   46  blue-collar  married  ...     1.028      4963.6   no\n",
            "41185   56      retired  married  ...     1.028      4963.6   no\n",
            "41186   44   technician  married  ...     1.028      4963.6  yes\n",
            "41187   74      retired  married  ...     1.028      4963.6   no\n",
            "\n",
            "[41188 rows x 21 columns]\n"
          ],
          "name": "stdout"
        }
      ]
    },
    {
      "cell_type": "code",
      "metadata": {
        "id": "AkJ9UHda_5kO",
        "colab_type": "code",
        "colab": {}
      },
      "source": [
        "features = [\"age\",\"job\",\"marital\",\"education\",\"default\",\n",
        "            \"housing\"]"
      ],
      "execution_count": 0,
      "outputs": []
    },
    {
      "cell_type": "code",
      "metadata": {
        "id": "6Ntw9ugc9frf",
        "colab_type": "code",
        "colab": {
          "base_uri": "https://localhost:8080/",
          "height": 204
        },
        "outputId": "0c1eabbf-a050-4990-ed1c-7eb11ecff308"
      },
      "source": [
        "# convert a string variable to a categorical one\n",
        "bank[[\"job\"]] = bank[[\"job\"]].apply(LabelEncoder().fit_transform)\n",
        "bank[[\"marital\"]] = bank[[\"marital\"]].apply(LabelEncoder().fit_transform)\n",
        "bank[[\"education\"]] = bank[[\"education\"]].apply(LabelEncoder().fit_transform)\n",
        "bank[[\"default\"]] = bank[[\"default\"]].apply(LabelEncoder().fit_transform)\n",
        "bank[[\"housing\"]] = bank[[\"housing\"]].apply(LabelEncoder().fit_transform)\n",
        "bank[[\"loan\"]] = bank[[\"loan\"]].apply(LabelEncoder().fit_transform)\n",
        "bank[[\"contact\"]] = bank[[\"contact\"]].apply(LabelEncoder().fit_transform)\n",
        "bank[[\"month\"]] = bank[[\"month\"]].apply(LabelEncoder().fit_transform)\n",
        "bank[[\"day_of_week\"]] = bank[[\"day_of_week\"]].apply(LabelEncoder().fit_transform)\n",
        "bank[[\"poutcome\"]] = bank[[\"poutcome\"]].apply(LabelEncoder().fit_transform)\n",
        "bank[[\"y\"]] = bank[[\"y\"]].apply(LabelEncoder().fit_transform)\n",
        "bank.head()"
      ],
      "execution_count": 228,
      "outputs": [
        {
          "output_type": "execute_result",
          "data": {
            "text/html": [
              "<div>\n",
              "<style scoped>\n",
              "    .dataframe tbody tr th:only-of-type {\n",
              "        vertical-align: middle;\n",
              "    }\n",
              "\n",
              "    .dataframe tbody tr th {\n",
              "        vertical-align: top;\n",
              "    }\n",
              "\n",
              "    .dataframe thead th {\n",
              "        text-align: right;\n",
              "    }\n",
              "</style>\n",
              "<table border=\"1\" class=\"dataframe\">\n",
              "  <thead>\n",
              "    <tr style=\"text-align: right;\">\n",
              "      <th></th>\n",
              "      <th>age</th>\n",
              "      <th>job</th>\n",
              "      <th>marital</th>\n",
              "      <th>education</th>\n",
              "      <th>default</th>\n",
              "      <th>housing</th>\n",
              "      <th>loan</th>\n",
              "      <th>contact</th>\n",
              "      <th>month</th>\n",
              "      <th>day_of_week</th>\n",
              "      <th>duration</th>\n",
              "      <th>campaign</th>\n",
              "      <th>pdays</th>\n",
              "      <th>previous</th>\n",
              "      <th>poutcome</th>\n",
              "      <th>emp.var.rate</th>\n",
              "      <th>cons.price.idx</th>\n",
              "      <th>cons.conf.idx</th>\n",
              "      <th>euribor3m</th>\n",
              "      <th>nr.employed</th>\n",
              "      <th>y</th>\n",
              "    </tr>\n",
              "  </thead>\n",
              "  <tbody>\n",
              "    <tr>\n",
              "      <th>0</th>\n",
              "      <td>56</td>\n",
              "      <td>3</td>\n",
              "      <td>1</td>\n",
              "      <td>0</td>\n",
              "      <td>0</td>\n",
              "      <td>0</td>\n",
              "      <td>0</td>\n",
              "      <td>1</td>\n",
              "      <td>6</td>\n",
              "      <td>1</td>\n",
              "      <td>261</td>\n",
              "      <td>1</td>\n",
              "      <td>999</td>\n",
              "      <td>0</td>\n",
              "      <td>1</td>\n",
              "      <td>1.1</td>\n",
              "      <td>93.994</td>\n",
              "      <td>-36.4</td>\n",
              "      <td>4.857</td>\n",
              "      <td>5191.0</td>\n",
              "      <td>0</td>\n",
              "    </tr>\n",
              "    <tr>\n",
              "      <th>1</th>\n",
              "      <td>57</td>\n",
              "      <td>7</td>\n",
              "      <td>1</td>\n",
              "      <td>3</td>\n",
              "      <td>1</td>\n",
              "      <td>0</td>\n",
              "      <td>0</td>\n",
              "      <td>1</td>\n",
              "      <td>6</td>\n",
              "      <td>1</td>\n",
              "      <td>149</td>\n",
              "      <td>1</td>\n",
              "      <td>999</td>\n",
              "      <td>0</td>\n",
              "      <td>1</td>\n",
              "      <td>1.1</td>\n",
              "      <td>93.994</td>\n",
              "      <td>-36.4</td>\n",
              "      <td>4.857</td>\n",
              "      <td>5191.0</td>\n",
              "      <td>0</td>\n",
              "    </tr>\n",
              "    <tr>\n",
              "      <th>2</th>\n",
              "      <td>37</td>\n",
              "      <td>7</td>\n",
              "      <td>1</td>\n",
              "      <td>3</td>\n",
              "      <td>0</td>\n",
              "      <td>2</td>\n",
              "      <td>0</td>\n",
              "      <td>1</td>\n",
              "      <td>6</td>\n",
              "      <td>1</td>\n",
              "      <td>226</td>\n",
              "      <td>1</td>\n",
              "      <td>999</td>\n",
              "      <td>0</td>\n",
              "      <td>1</td>\n",
              "      <td>1.1</td>\n",
              "      <td>93.994</td>\n",
              "      <td>-36.4</td>\n",
              "      <td>4.857</td>\n",
              "      <td>5191.0</td>\n",
              "      <td>0</td>\n",
              "    </tr>\n",
              "    <tr>\n",
              "      <th>3</th>\n",
              "      <td>40</td>\n",
              "      <td>0</td>\n",
              "      <td>1</td>\n",
              "      <td>1</td>\n",
              "      <td>0</td>\n",
              "      <td>0</td>\n",
              "      <td>0</td>\n",
              "      <td>1</td>\n",
              "      <td>6</td>\n",
              "      <td>1</td>\n",
              "      <td>151</td>\n",
              "      <td>1</td>\n",
              "      <td>999</td>\n",
              "      <td>0</td>\n",
              "      <td>1</td>\n",
              "      <td>1.1</td>\n",
              "      <td>93.994</td>\n",
              "      <td>-36.4</td>\n",
              "      <td>4.857</td>\n",
              "      <td>5191.0</td>\n",
              "      <td>0</td>\n",
              "    </tr>\n",
              "    <tr>\n",
              "      <th>4</th>\n",
              "      <td>56</td>\n",
              "      <td>7</td>\n",
              "      <td>1</td>\n",
              "      <td>3</td>\n",
              "      <td>0</td>\n",
              "      <td>0</td>\n",
              "      <td>2</td>\n",
              "      <td>1</td>\n",
              "      <td>6</td>\n",
              "      <td>1</td>\n",
              "      <td>307</td>\n",
              "      <td>1</td>\n",
              "      <td>999</td>\n",
              "      <td>0</td>\n",
              "      <td>1</td>\n",
              "      <td>1.1</td>\n",
              "      <td>93.994</td>\n",
              "      <td>-36.4</td>\n",
              "      <td>4.857</td>\n",
              "      <td>5191.0</td>\n",
              "      <td>0</td>\n",
              "    </tr>\n",
              "  </tbody>\n",
              "</table>\n",
              "</div>"
            ],
            "text/plain": [
              "   age  job  marital  education  ...  cons.conf.idx  euribor3m  nr.employed  y\n",
              "0   56    3        1          0  ...          -36.4      4.857       5191.0  0\n",
              "1   57    7        1          3  ...          -36.4      4.857       5191.0  0\n",
              "2   37    7        1          3  ...          -36.4      4.857       5191.0  0\n",
              "3   40    0        1          1  ...          -36.4      4.857       5191.0  0\n",
              "4   56    7        1          3  ...          -36.4      4.857       5191.0  0\n",
              "\n",
              "[5 rows x 21 columns]"
            ]
          },
          "metadata": {
            "tags": []
          },
          "execution_count": 228
        }
      ]
    },
    {
      "cell_type": "code",
      "metadata": {
        "id": "plFVj36f-6IZ",
        "colab_type": "code",
        "colab": {
          "base_uri": "https://localhost:8080/",
          "height": 442
        },
        "outputId": "0e128528-14b4-43ff-914b-24dc898f001e"
      },
      "source": [
        "bank = bank.dropna()\n",
        "y=[\"y\"]\n",
        "\n",
        "X_bank = bank[features].copy()\n",
        "y_bank = bank[y].copy()\n",
        "\n",
        "print(X_bank.head().to_latex())\n",
        "print(y_bank.values)\n",
        "\n",
        "y_bank = bank[y].copy()\n",
        "\n",
        "y_bank[y] = y_bank[y].apply(LabelEncoder().fit_transform)\n",
        "\n",
        "print(y_bank.head())\n"
      ],
      "execution_count": 229,
      "outputs": [
        {
          "output_type": "stream",
          "text": [
            "\\begin{tabular}{lrrrrrr}\n",
            "\\toprule\n",
            "{} &  age &  job &  marital &  education &  default &  housing \\\\\n",
            "\\midrule\n",
            "0 &   56 &    3 &        1 &          0 &        0 &        0 \\\\\n",
            "1 &   57 &    7 &        1 &          3 &        1 &        0 \\\\\n",
            "2 &   37 &    7 &        1 &          3 &        0 &        2 \\\\\n",
            "3 &   40 &    0 &        1 &          1 &        0 &        0 \\\\\n",
            "4 &   56 &    7 &        1 &          3 &        0 &        0 \\\\\n",
            "\\bottomrule\n",
            "\\end{tabular}\n",
            "\n",
            "[[0]\n",
            " [0]\n",
            " [0]\n",
            " ...\n",
            " [0]\n",
            " [1]\n",
            " [0]]\n",
            "   y\n",
            "0  0\n",
            "1  0\n",
            "2  0\n",
            "3  0\n",
            "4  0\n"
          ],
          "name": "stdout"
        }
      ]
    },
    {
      "cell_type": "code",
      "metadata": {
        "id": "BbYGrqZOD4M5",
        "colab_type": "code",
        "colab": {
          "base_uri": "https://localhost:8080/",
          "height": 85
        },
        "outputId": "f6a89f29-ebfd-45c4-cdfa-8efd8c4cbaa3"
      },
      "source": [
        "clf = ExtraTreesClassifier(n_estimators=100, max_depth=4)\n",
        "\n",
        "df_dummies = pd.get_dummies(bank)\n",
        "X=df_dummies.drop(columns=[\"y\"]).copy()\n",
        "y= df_dummies[\"y\"].copy()\n",
        "\n",
        "dummy_clf = DummyClassifier()\n",
        "X_train, X_test, y_train, y_test = train_test_split(X, y, test_size=0.3,stratify=y)\n",
        "scores = cross_val_score(clf, X_train, y_train, cv=10,scoring = make_scorer(acc))\n",
        "\n",
        "dummy_clf.fit(X_train,y_train)\n",
        "\n",
        "print(\"ACC: %0.2f +/- %0.2f\" % (scores.mean(), scores.std()))\n",
        "print(\"Dummy ACC: %0.2f\"% (acc(y,dummy_clf.predict(X))))\n",
        "\n"
      ],
      "execution_count": 230,
      "outputs": [
        {
          "output_type": "stream",
          "text": [
            "ACC: 0.90 +/- 0.00\n",
            "Dummy ACC: 0.80\n"
          ],
          "name": "stdout"
        },
        {
          "output_type": "stream",
          "text": [
            "/usr/local/lib/python3.6/dist-packages/sklearn/dummy.py:132: FutureWarning: The default value of strategy will change from stratified to prior in 0.24.\n",
            "  \"stratified to prior in 0.24.\", FutureWarning)\n"
          ],
          "name": "stderr"
        }
      ]
    },
    {
      "cell_type": "code",
      "metadata": {
        "id": "WYH8pOJoELgO",
        "colab_type": "code",
        "colab": {
          "base_uri": "https://localhost:8080/",
          "height": 34
        },
        "outputId": "a0c6c925-e994-419e-ce72-cb48761e9509"
      },
      "source": [
        "clf = ExtraTreesClassifier(n_estimators=100, max_depth=4)\n",
        "clf.fit(X_train,y_train)\n",
        "\n",
        "print(acc(y_train,clf.predict(X_train)))"
      ],
      "execution_count": 231,
      "outputs": [
        {
          "output_type": "stream",
          "text": [
            "0.8993444556206861\n"
          ],
          "name": "stdout"
        }
      ]
    },
    {
      "cell_type": "code",
      "metadata": {
        "id": "tzR5WmE_HF03",
        "colab_type": "code",
        "colab": {}
      },
      "source": [
        "bank=bank.drop('duration', 1)\n",
        "print(bank)"
      ],
      "execution_count": 0,
      "outputs": []
    },
    {
      "cell_type": "code",
      "metadata": {
        "id": "Q8SaP6nuIvXq",
        "colab_type": "code",
        "colab": {
          "base_uri": "https://localhost:8080/",
          "height": 333
        },
        "outputId": "c068c795-a7fe-4d1b-87aa-6f097e3b160e"
      },
      "source": [
        "plt.hist(y)"
      ],
      "execution_count": 233,
      "outputs": [
        {
          "output_type": "execute_result",
          "data": {
            "text/plain": [
              "(array([36548.,     0.,     0.,     0.,     0.,     0.,     0.,     0.,\n",
              "            0.,  4640.]),\n",
              " array([0. , 0.1, 0.2, 0.3, 0.4, 0.5, 0.6, 0.7, 0.8, 0.9, 1. ]),\n",
              " <a list of 10 Patch objects>)"
            ]
          },
          "metadata": {
            "tags": []
          },
          "execution_count": 233
        },
        {
          "output_type": "display_data",
          "data": {
            "image/png": "[encoded data removed]",
            "text/plain": [
              "<Figure size 432x288 with 1 Axes>"
            ]
          },
          "metadata": {
            "tags": []
          }
        }
      ]
    },
    {
      "cell_type": "code",
      "metadata": {
        "id": "DOQrXUKhRqLm",
        "colab_type": "code",
        "colab": {
          "base_uri": "https://localhost:8080/",
          "height": 34
        },
        "outputId": "7f01464e-adcf-427a-a52e-b1dd68d21434"
      },
      "source": [
        "clf = ExtraTreesClassifier(n_estimators=100, max_depth=4)\n",
        "clf.fit(X_train,y_train)\n",
        "\n",
        "print(acc(y_test,clf.predict(X_test)))"
      ],
      "execution_count": 234,
      "outputs": [
        {
          "output_type": "stream",
          "text": [
            "0.8999757222626851\n"
          ],
          "name": "stdout"
        }
      ]
    },
    {
      "cell_type": "code",
      "metadata": {
        "id": "_03tZc-BSA1P",
        "colab_type": "code",
        "colab": {}
      },
      "source": [
        "def plot_confusion_matrix(cm, classes,\n",
        "                          normalize=False,\n",
        "                          title='Confusion matrix',\n",
        "                          cmap=plt.cm.Blues):\n",
        "    \"\"\"\n",
        "    This function prints and plots the confusion matrix.\n",
        "    Normalization can be applied by setting `normalize=True`.\n",
        "    \"\"\"\n",
        "    if normalize:\n",
        "        cm = cm.astype('float') / cm.sum(axis=1)[:, np.newaxis]\n",
        "        print(\"Normalized confusion matrix\")\n",
        "    else:\n",
        "        print('Confusion matrix, without normalization')\n",
        "    plt.imshow(cm, interpolation='nearest', cmap=cmap)\n",
        "    plt.title(title)\n",
        "    plt.colorbar()\n",
        "    tick_marks = np.arange(len(classes))\n",
        "    plt.xticks(tick_marks, classes, rotation=45)\n",
        "    plt.yticks(tick_marks, classes)\n",
        "    thresh = cm.max() / 2.\n",
        "    for i, j in itertools.product(range(cm.shape[0]), range(cm.shape[1])):\n",
        "        t = \"(%.2f)\"%(cm[i, j])\n",
        "    plt.tight_layout()\n",
        "    plt.ylabel('True label')\n",
        "    plt.xlabel('Predicted label')\n"
      ],
      "execution_count": 0,
      "outputs": []
    },
    {
      "cell_type": "code",
      "metadata": {
        "id": "kLVwRMuhSd59",
        "colab_type": "code",
        "colab": {
          "base_uri": "https://localhost:8080/",
          "height": 549
        },
        "outputId": "7047e08f-b0f1-40ee-cb74-db6a64a85c10"
      },
      "source": [
        "# Compute confusion matrix\n",
        "\n",
        "y_pred = clf.predict(X)\n",
        "print(y)\n",
        "print(y_pred)\n",
        "cnf_matrix = confusion_matrix(y, y_pred)\n",
        "np.set_printoptions(precision=2)\n",
        "\n",
        "# Plot non-normalized confusion matrix\n",
        "plt.figure()\n",
        "plot_confusion_matrix(cnf_matrix, classes=range(len(set(y))), normalize = True,\n",
        "                      title='Confusion matrix')\n",
        "\n",
        "#plt.savefig(\"confusion.png\",bbox_inches='tight')\n",
        "#plt.savefig(\"confusion.pdf\",bbox_inches='tight')"
      ],
      "execution_count": 236,
      "outputs": [
        {
          "output_type": "stream",
          "text": [
            "0        0\n",
            "1        0\n",
            "2        0\n",
            "3        0\n",
            "4        0\n",
            "        ..\n",
            "41183    1\n",
            "41184    0\n",
            "41185    0\n",
            "41186    1\n",
            "41187    0\n",
            "Name: y, Length: 41188, dtype: int64\n",
            "[0 0 0 ... 0 0 0]\n",
            "Normalized confusion matrix\n"
          ],
          "name": "stdout"
        },
        {
          "output_type": "display_data",
          "data": {
            "image/png": "[encoded data removed]",
            "text/plain": [
              "<Figure size 432x288 with 2 Axes>"
            ]
          },
          "metadata": {
            "tags": []
          }
        }
      ]
    },
    {
      "cell_type": "code",
      "metadata": {
        "id": "33FH_0kChcf3",
        "colab_type": "code",
        "colab": {
          "base_uri": "https://localhost:8080/",
          "height": 891
        },
        "outputId": "783090f2-b2dd-4640-a131-68501d7b5039"
      },
      "source": [
        "importances = clf.feature_importances_\n",
        "std = np.std([tree.feature_importances_ for tree in clf.estimators_],\n",
        "             axis=0)\n",
        "indices = np.argsort(importances)[::-1]\n",
        "print(indices)\n",
        "# Print the feature ranking\n",
        "print(\"Feature ranking:\")\n",
        "\n",
        "features=list(df_dummies.columns[:-1])\n",
        "\n",
        "for f in range(X_train.shape[1]):\n",
        "    print(\"%d. %s (%f)\" % (f + 1, features[indices[f]],  importances[indices[f]]))\n",
        "\n",
        "# Plot the feature importances of the forest\n",
        "fig = plt.figure()\n",
        "plt.title(\"Feature importances\")\n",
        "plt.bar(range(X_train.shape[1]), importances[indices],\n",
        "       color=\"r\", yerr=std[indices], align=\"center\")\n",
        "plt.xticks(range(X_train.shape[1]), np.array(features)[indices])\n",
        "plt.xlim([-1, X_train.shape[1]])\n",
        "fig.set_size_inches(15,8)\n",
        "axes = plt.gca()\n",
        "axes.set_ylim([0,None])\n",
        "\n",
        "# plt.savefig(\"importances.png\",bbox_inches='tight')\n",
        "# plt.savefig(\"importances.pdf\",bbox_inches='tight')"
      ],
      "execution_count": 238,
      "outputs": [
        {
          "output_type": "stream",
          "text": [
            "[12 19 14 18 15 10 16 17  7  8 13  0  4  3 11  9  2  1  6  5]\n",
            "Feature ranking:\n",
            "1. pdays (0.238836)\n",
            "2. nr.employed (0.212892)\n",
            "3. poutcome (0.124197)\n",
            "4. euribor3m (0.115109)\n",
            "5. emp.var.rate (0.102554)\n",
            "6. duration (0.078021)\n",
            "7. cons.price.idx (0.033507)\n",
            "8. cons.conf.idx (0.030470)\n",
            "9. contact (0.022619)\n",
            "10. month (0.014919)\n",
            "11. previous (0.009247)\n",
            "12. age (0.005679)\n",
            "13. default (0.004608)\n",
            "14. education (0.002155)\n",
            "15. campaign (0.001648)\n",
            "16. day_of_week (0.001268)\n",
            "17. marital (0.001003)\n",
            "18. job (0.000782)\n",
            "19. loan (0.000303)\n",
            "20. housing (0.000182)\n"
          ],
          "name": "stdout"
        },
        {
          "output_type": "execute_result",
          "data": {
            "text/plain": [
              "(0, 0.5197505948864907)"
            ]
          },
          "metadata": {
            "tags": []
          },
          "execution_count": 238
        },
        {
          "output_type": "display_data",
          "data": {
            "image/png": "[encoded data removed]",
            "text/plain": [
              "<Figure size 1080x576 with 1 Axes>"
            ]
          },
          "metadata": {
            "tags": []
          }
        }
      ]
    }
  ]
}