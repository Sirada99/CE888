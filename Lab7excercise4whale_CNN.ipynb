{
  "nbformat": 4,
  "nbformat_minor": 0,
  "metadata": {
    "colab": {
      "name": "Lab7excercise4whale_CNN.ipynb",
      "provenance": [],
      "collapsed_sections": [],
      "include_colab_link": true
    },
    "kernelspec": {
      "name": "python3",
      "display_name": "Python 3"
    },
    "accelerator": "GPU"
  },
  "cells": [
    {
      "cell_type": "markdown",
      "metadata": {
        "id": "view-in-github",
        "colab_type": "text"
      },
      "source": [
        "<a href=\"https://colab.research.google.com/github/Sirada99/CE888/blob/master/Lab7excercise4whale_CNN.ipynb\" target=\"_parent\"><img src=\"https://colab.research.google.com/assets/colab-badge.svg\" alt=\"Open In Colab\"/></a>"
      ]
    },
    {
      "cell_type": "code",
      "metadata": {
        "id": "3UBSpsQrIiwB",
        "colab_type": "code",
        "outputId": "095fc1d9-ab42-4870-a74f-955c751ac999",
        "colab": {
          "base_uri": "https://localhost:8080/",
          "height": 34
        }
      },
      "source": [
        "from google.colab import drive\n",
        "drive.mount('/content/drive')"
      ],
      "execution_count": 0,
      "outputs": [
        {
          "output_type": "stream",
          "text": [
            "Drive already mounted at /content/drive; to attempt to forcibly remount, call drive.mount(\"/content/drive\", force_remount=True).\n"
          ],
          "name": "stdout"
        }
      ]
    },
    {
      "cell_type": "code",
      "metadata": {
        "id": "EaJhmtrQCQ8K",
        "colab_type": "code",
        "outputId": "f698b169-1cab-45f0-b1f5-b55feaa524c8",
        "colab": {
          "base_uri": "https://localhost:8080/",
          "height": 34
        }
      },
      "source": [
        "# Upload data\n",
        "from zipfile import ZipFile\n",
        "\n",
        "file_name = \"/content/drive/My Drive/train.zip\"\n",
        "\n",
        "with ZipFile(file_name, 'r') as zip:\n",
        "  zip.extractall()\n",
        "  print('done')"
      ],
      "execution_count": 0,
      "outputs": [
        {
          "output_type": "stream",
          "text": [
            "done\n"
          ],
          "name": "stdout"
        }
      ]
    },
    {
      "cell_type": "code",
      "metadata": {
        "id": "xY37aKm9MhzZ",
        "colab_type": "code",
        "outputId": "2082a688-ff3a-4ef8-8aec-ef0f46406394",
        "colab": {
          "base_uri": "https://localhost:8080/",
          "height": 34
        }
      },
      "source": [
        "import os\n",
        "data_dir_list = os.listdir('/content/train')\n",
        "#print(data_dir_list)\n",
        "\n",
        "path, dirs, files = next(os.walk(\"/content/train\"))\n",
        "file_count = len(files)\n",
        "print(file_count)"
      ],
      "execution_count": 0,
      "outputs": [
        {
          "output_type": "stream",
          "text": [
            "50722\n"
          ],
          "name": "stdout"
        }
      ]
    },
    {
      "cell_type": "code",
      "metadata": {
        "id": "0ERlHkfHqpK8",
        "colab_type": "code",
        "colab": {}
      },
      "source": [
        "original_dataset_dir = '/content/train'\n",
        "base_dir = '/content/train_whale'\n",
        "os.mkdir(base_dir)"
      ],
      "execution_count": 0,
      "outputs": []
    },
    {
      "cell_type": "code",
      "metadata": {
        "id": "AANB1UJ6rQhM",
        "colab_type": "code",
        "colab": {}
      },
      "source": [
        "train_dir = os.path.join(base_dir, 'train')\n",
        "os.mkdir(train_dir)\n",
        "\n",
        "validation_dir = os.path.join(base_dir, 'validation')\n",
        "os.mkdir(validation_dir)\n",
        "\n",
        "test_dir = os.path.join(base_dir, 'test')\n",
        "os.mkdir(test_dir)\n",
        "\n",
        "train_whale_dir = os.path.join(train_dir, 'whale')\n",
        "os.mkdir(train_whale_dir)\n",
        "\n",
        "validation_whale_dir = os.path.join(validation_dir, 'whale')\n",
        "os.mkdir(validation_whale_dir)\n",
        "\n",
        "test_whale_dir = os.path.join(test_dir, 'whale')\n",
        "os.mkdir(test_whale_dir)"
      ],
      "execution_count": 0,
      "outputs": []
    },
    {
      "cell_type": "code",
      "metadata": {
        "id": "ULRgL9s9rV8T",
        "colab_type": "code",
        "colab": {}
      },
      "source": [
        "import shutil\n",
        "fnames = ['whale ().jpg'.format(i) for i in range(1000)]\n",
        "for fname in fnames:\n",
        "    src = os.path.join(original_dataset_dir, fname)\n",
        "    dst = os.path.join(train_whale_dir, fname)\n",
        "    #print(src,dst)\n",
        "    shutil.copyfile(src, dst)\n",
        "    \n",
        "fnames = ['whale ().jpg'.format(i) for i in range(1000, 1500)]\n",
        "for fname in fnames:\n",
        "    src = os.path.join(original_dataset_dir, fname)\n",
        "    dst = os.path.join(validation_whale_dir, fname)\n",
        "    shutil.copyfile(src, dst)\n",
        "\n",
        "fnames = ['whale ().jpg'.format(i) for i in range(1500, 2000)]\n",
        "for fname in fnames:\n",
        "    src = os.path.join(original_dataset_dir, fname)\n",
        "    dst = os.path.join(test_whale_dir, fname)\n",
        "    shutil.copyfile(src, dst)\n",
        "    "
      ],
      "execution_count": 0,
      "outputs": []
    },
    {
      "cell_type": "code",
      "metadata": {
        "id": "ul3XAbIyr7vC",
        "colab_type": "code",
        "colab": {}
      },
      "source": [
        "print('total training whale images:', len(os.listdir(train_whale_dir)))\n",
        "print('total validation whale images:', len(os.listdir(validation_whale_dir)))\n",
        "print('total test whale images:', len(os.listdir(test_whale_dir)))"
      ],
      "execution_count": 0,
      "outputs": []
    },
    {
      "cell_type": "code",
      "metadata": {
        "id": "o9yTA21_r-ma",
        "colab_type": "code",
        "outputId": "369bc96d-e4c5-4df5-bc77-06eef0773d4c",
        "colab": {
          "base_uri": "https://localhost:8080/",
          "height": 726
        }
      },
      "source": [
        "from keras import layers\n",
        "from keras import models\n",
        "\n",
        "model = models.Sequential()\n",
        "model.add(layers.Conv2D(32, (3, 3), activation='relu', input_shape=(150, 150, 3)))\n",
        "model.add(layers.MaxPooling2D((2, 2)))\n",
        "model.add(layers.Conv2D(64, (3, 3), activation='relu'))\n",
        "model.add(layers.MaxPooling2D((2, 2)))\n",
        "model.add(layers.Conv2D(128, (3, 3), activation='relu'))\n",
        "model.add(layers.MaxPooling2D((2, 2)))\n",
        "model.add(layers.Conv2D(128, (3, 3), activation='relu'))\n",
        "model.add(layers.MaxPooling2D((2, 2)))\n",
        "model.add(layers.Flatten())\n",
        "model.add(layers.Dense(512, activation='relu'))\n",
        "model.add(layers.Dense(1, activation='sigmoid'))\n",
        "model.summary()"
      ],
      "execution_count": 0,
      "outputs": [
        {
          "output_type": "stream",
          "text": [
            "Using TensorFlow backend.\n"
          ],
          "name": "stderr"
        },
        {
          "output_type": "display_data",
          "data": {
            "text/html": [
              "<p style=\"color: red;\">\n",
              "The default version of TensorFlow in Colab will soon switch to TensorFlow 2.x.<br>\n",
              "We recommend you <a href=\"https://www.tensorflow.org/guide/migrate\" target=\"_blank\">upgrade</a> now \n",
              "or ensure your notebook will continue to use TensorFlow 1.x via the <code>%tensorflow_version 1.x</code> magic:\n",
              "<a href=\"https://colab.research.google.com/notebooks/tensorflow_version.ipynb\" target=\"_blank\">more info</a>.</p>\n"
            ],
            "text/plain": [
              "<IPython.core.display.HTML object>"
            ]
          },
          "metadata": {
            "tags": []
          }
        },
        {
          "output_type": "stream",
          "text": [
            "WARNING:tensorflow:From /usr/local/lib/python3.6/dist-packages/keras/backend/tensorflow_backend.py:66: The name tf.get_default_graph is deprecated. Please use tf.compat.v1.get_default_graph instead.\n",
            "\n",
            "WARNING:tensorflow:From /usr/local/lib/python3.6/dist-packages/keras/backend/tensorflow_backend.py:541: The name tf.placeholder is deprecated. Please use tf.compat.v1.placeholder instead.\n",
            "\n",
            "WARNING:tensorflow:From /usr/local/lib/python3.6/dist-packages/keras/backend/tensorflow_backend.py:4432: The name tf.random_uniform is deprecated. Please use tf.random.uniform instead.\n",
            "\n",
            "WARNING:tensorflow:From /usr/local/lib/python3.6/dist-packages/keras/backend/tensorflow_backend.py:4267: The name tf.nn.max_pool is deprecated. Please use tf.nn.max_pool2d instead.\n",
            "\n",
            "Model: \"sequential_1\"\n",
            "_________________________________________________________________\n",
            "Layer (type)                 Output Shape              Param #   \n",
            "=================================================================\n",
            "conv2d_1 (Conv2D)            (None, 148, 148, 32)      896       \n",
            "_________________________________________________________________\n",
            "max_pooling2d_1 (MaxPooling2 (None, 74, 74, 32)        0         \n",
            "_________________________________________________________________\n",
            "conv2d_2 (Conv2D)            (None, 72, 72, 64)        18496     \n",
            "_________________________________________________________________\n",
            "max_pooling2d_2 (MaxPooling2 (None, 36, 36, 64)        0         \n",
            "_________________________________________________________________\n",
            "conv2d_3 (Conv2D)            (None, 34, 34, 128)       73856     \n",
            "_________________________________________________________________\n",
            "max_pooling2d_3 (MaxPooling2 (None, 17, 17, 128)       0         \n",
            "_________________________________________________________________\n",
            "conv2d_4 (Conv2D)            (None, 15, 15, 128)       147584    \n",
            "_________________________________________________________________\n",
            "max_pooling2d_4 (MaxPooling2 (None, 7, 7, 128)         0         \n",
            "_________________________________________________________________\n",
            "flatten_1 (Flatten)          (None, 6272)              0         \n",
            "_________________________________________________________________\n",
            "dense_1 (Dense)              (None, 512)               3211776   \n",
            "_________________________________________________________________\n",
            "dense_2 (Dense)              (None, 1)                 513       \n",
            "=================================================================\n",
            "Total params: 3,453,121\n",
            "Trainable params: 3,453,121\n",
            "Non-trainable params: 0\n",
            "_________________________________________________________________\n"
          ],
          "name": "stdout"
        }
      ]
    },
    {
      "cell_type": "code",
      "metadata": {
        "id": "2mG8wekxsBVS",
        "colab_type": "code",
        "outputId": "bbf7442e-0ca0-4eb4-bbd7-1ada6056077c",
        "colab": {
          "base_uri": "https://localhost:8080/",
          "height": 136
        }
      },
      "source": [
        "from keras import optimizers\n",
        "model.compile(loss='binary_crossentropy', \n",
        "              optimizer=optimizers.RMSprop(lr=1e-4),\n",
        "              metrics=['acc'])"
      ],
      "execution_count": 0,
      "outputs": [
        {
          "output_type": "stream",
          "text": [
            "WARNING:tensorflow:From /usr/local/lib/python3.6/dist-packages/keras/optimizers.py:793: The name tf.train.Optimizer is deprecated. Please use tf.compat.v1.train.Optimizer instead.\n",
            "\n",
            "WARNING:tensorflow:From /usr/local/lib/python3.6/dist-packages/keras/backend/tensorflow_backend.py:3657: The name tf.log is deprecated. Please use tf.math.log instead.\n",
            "\n",
            "WARNING:tensorflow:From /usr/local/lib/python3.6/dist-packages/tensorflow_core/python/ops/nn_impl.py:183: where (from tensorflow.python.ops.array_ops) is deprecated and will be removed in a future version.\n",
            "Instructions for updating:\n",
            "Use tf.where in 2.0, which has the same broadcast rule as np.where\n"
          ],
          "name": "stdout"
        }
      ]
    },
    {
      "cell_type": "code",
      "metadata": {
        "id": "XJ7XU7t9sEh6",
        "colab_type": "code",
        "outputId": "69deebf8-e24a-41fa-cc47-933b5eabd65d",
        "colab": {
          "base_uri": "https://localhost:8080/",
          "height": 51
        }
      },
      "source": [
        "from keras.preprocessing.image import ImageDataGenerator\n",
        "\n",
        "train_datagen = ImageDataGenerator(rescale=1./255)\n",
        "test_datagen = ImageDataGenerator(rescale=1./255)\n",
        "\n",
        "train_generator = train_datagen.flow_from_directory(train_dir,\n",
        "                                                    target_size=(150, 150), \n",
        "                                                    batch_size=20,\n",
        "                                                    class_mode='binary')\n",
        "\n",
        "validation_generator = test_datagen.flow_from_directory(validation_dir,\n",
        "                                                        target_size=(150, 150),\n",
        "                                                        batch_size=20,\n",
        "                                                        class_mode='binary')"
      ],
      "execution_count": 0,
      "outputs": [
        {
          "output_type": "stream",
          "text": [
            "Found 2000 images belonging to 2 classes.\n",
            "Found 1000 images belonging to 2 classes.\n"
          ],
          "name": "stdout"
        }
      ]
    },
    {
      "cell_type": "code",
      "metadata": {
        "id": "yMyfPphJsJG6",
        "colab_type": "code",
        "outputId": "26597234-407d-4674-fa74-548c77401f21",
        "colab": {
          "base_uri": "https://localhost:8080/",
          "height": 1000
        }
      },
      "source": [
        "history = model.fit_generator(train_generator,\n",
        "                              steps_per_epoch=100,\n",
        "                              epochs=30,\n",
        "                              validation_data=validation_generator,\n",
        "                              validation_steps=10)"
      ],
      "execution_count": 0,
      "outputs": [
        {
          "output_type": "stream",
          "text": [
            "WARNING:tensorflow:From /usr/local/lib/python3.6/dist-packages/keras/backend/tensorflow_backend.py:1033: The name tf.assign_add is deprecated. Please use tf.compat.v1.assign_add instead.\n",
            "\n",
            "WARNING:tensorflow:From /usr/local/lib/python3.6/dist-packages/keras/backend/tensorflow_backend.py:1020: The name tf.assign is deprecated. Please use tf.compat.v1.assign instead.\n",
            "\n",
            "WARNING:tensorflow:From /usr/local/lib/python3.6/dist-packages/keras/backend/tensorflow_backend.py:3005: The name tf.Session is deprecated. Please use tf.compat.v1.Session instead.\n",
            "\n",
            "Epoch 1/30\n",
            "WARNING:tensorflow:From /usr/local/lib/python3.6/dist-packages/keras/backend/tensorflow_backend.py:190: The name tf.get_default_session is deprecated. Please use tf.compat.v1.get_default_session instead.\n",
            "\n",
            "WARNING:tensorflow:From /usr/local/lib/python3.6/dist-packages/keras/backend/tensorflow_backend.py:197: The name tf.ConfigProto is deprecated. Please use tf.compat.v1.ConfigProto instead.\n",
            "\n",
            "WARNING:tensorflow:From /usr/local/lib/python3.6/dist-packages/keras/backend/tensorflow_backend.py:207: The name tf.global_variables is deprecated. Please use tf.compat.v1.global_variables instead.\n",
            "\n",
            "WARNING:tensorflow:From /usr/local/lib/python3.6/dist-packages/keras/backend/tensorflow_backend.py:216: The name tf.is_variable_initialized is deprecated. Please use tf.compat.v1.is_variable_initialized instead.\n",
            "\n",
            "WARNING:tensorflow:From /usr/local/lib/python3.6/dist-packages/keras/backend/tensorflow_backend.py:223: The name tf.variables_initializer is deprecated. Please use tf.compat.v1.variables_initializer instead.\n",
            "\n",
            "100/100 [==============================] - 21s 210ms/step - loss: 0.6926 - acc: 0.5235 - val_loss: 0.6749 - val_acc: 0.6050\n",
            "Epoch 2/30\n",
            "100/100 [==============================] - 6s 64ms/step - loss: 0.6629 - acc: 0.6085 - val_loss: 0.6444 - val_acc: 0.6100\n",
            "Epoch 3/30\n",
            "100/100 [==============================] - 6s 64ms/step - loss: 0.6238 - acc: 0.6690 - val_loss: 0.5850 - val_acc: 0.7250\n",
            "Epoch 4/30\n",
            "100/100 [==============================] - 6s 63ms/step - loss: 0.5766 - acc: 0.6980 - val_loss: 0.6375 - val_acc: 0.6350\n",
            "Epoch 5/30\n",
            "100/100 [==============================] - 6s 63ms/step - loss: 0.5379 - acc: 0.7280 - val_loss: 0.6107 - val_acc: 0.6700\n",
            "Epoch 6/30\n",
            "100/100 [==============================] - 7s 65ms/step - loss: 0.5005 - acc: 0.7600 - val_loss: 0.5713 - val_acc: 0.6700\n",
            "Epoch 7/30\n",
            "100/100 [==============================] - 6s 63ms/step - loss: 0.4698 - acc: 0.7795 - val_loss: 0.5985 - val_acc: 0.6750\n",
            "Epoch 8/30\n",
            "100/100 [==============================] - 6s 63ms/step - loss: 0.4439 - acc: 0.7945 - val_loss: 0.5516 - val_acc: 0.7150\n",
            "Epoch 9/30\n",
            "100/100 [==============================] - 6s 62ms/step - loss: 0.4191 - acc: 0.8130 - val_loss: 0.5563 - val_acc: 0.7150\n",
            "Epoch 10/30\n",
            "100/100 [==============================] - 6s 62ms/step - loss: 0.3911 - acc: 0.8305 - val_loss: 0.5480 - val_acc: 0.7250\n",
            "Epoch 11/30\n",
            "100/100 [==============================] - 6s 63ms/step - loss: 0.3663 - acc: 0.8430 - val_loss: 0.5379 - val_acc: 0.7400\n",
            "Epoch 12/30\n",
            "100/100 [==============================] - 6s 63ms/step - loss: 0.3362 - acc: 0.8550 - val_loss: 0.5817 - val_acc: 0.7500\n",
            "Epoch 13/30\n",
            "100/100 [==============================] - 6s 62ms/step - loss: 0.3241 - acc: 0.8580 - val_loss: 0.6273 - val_acc: 0.7550\n",
            "Epoch 14/30\n",
            "100/100 [==============================] - 6s 62ms/step - loss: 0.2901 - acc: 0.8805 - val_loss: 0.7114 - val_acc: 0.6600\n",
            "Epoch 15/30\n",
            "100/100 [==============================] - 6s 62ms/step - loss: 0.2643 - acc: 0.8930 - val_loss: 0.5479 - val_acc: 0.7650\n",
            "Epoch 16/30\n",
            "100/100 [==============================] - 7s 65ms/step - loss: 0.2380 - acc: 0.9035 - val_loss: 0.7384 - val_acc: 0.6800\n",
            "Epoch 17/30\n",
            "100/100 [==============================] - 6s 63ms/step - loss: 0.2198 - acc: 0.9130 - val_loss: 0.5432 - val_acc: 0.7400\n",
            "Epoch 18/30\n",
            "100/100 [==============================] - 6s 63ms/step - loss: 0.2053 - acc: 0.9190 - val_loss: 0.7181 - val_acc: 0.7150\n",
            "Epoch 19/30\n",
            "100/100 [==============================] - 6s 62ms/step - loss: 0.1789 - acc: 0.9375 - val_loss: 0.6455 - val_acc: 0.7800\n",
            "Epoch 20/30\n",
            "100/100 [==============================] - 6s 62ms/step - loss: 0.1595 - acc: 0.9395 - val_loss: 0.7055 - val_acc: 0.7250\n",
            "Epoch 21/30\n",
            "100/100 [==============================] - 6s 64ms/step - loss: 0.1404 - acc: 0.9490 - val_loss: 0.9719 - val_acc: 0.7000\n",
            "Epoch 22/30\n",
            "100/100 [==============================] - 6s 62ms/step - loss: 0.1267 - acc: 0.9565 - val_loss: 0.6010 - val_acc: 0.7600\n",
            "Epoch 23/30\n",
            "100/100 [==============================] - 6s 62ms/step - loss: 0.1089 - acc: 0.9640 - val_loss: 0.5992 - val_acc: 0.7600\n",
            "Epoch 24/30\n",
            "100/100 [==============================] - 6s 62ms/step - loss: 0.0928 - acc: 0.9720 - val_loss: 0.9204 - val_acc: 0.7400\n",
            "Epoch 25/30\n",
            "100/100 [==============================] - 6s 63ms/step - loss: 0.0849 - acc: 0.9720 - val_loss: 0.8833 - val_acc: 0.6950\n",
            "Epoch 26/30\n",
            "100/100 [==============================] - 6s 64ms/step - loss: 0.0780 - acc: 0.9755 - val_loss: 1.0169 - val_acc: 0.6800\n",
            "Epoch 27/30\n",
            "100/100 [==============================] - 6s 62ms/step - loss: 0.0623 - acc: 0.9825 - val_loss: 0.9508 - val_acc: 0.7250\n",
            "Epoch 28/30\n",
            "100/100 [==============================] - 6s 61ms/step - loss: 0.0504 - acc: 0.9865 - val_loss: 0.9121 - val_acc: 0.7700\n",
            "Epoch 29/30\n",
            "100/100 [==============================] - 6s 62ms/step - loss: 0.0397 - acc: 0.9900 - val_loss: 0.7659 - val_acc: 0.7800\n",
            "Epoch 30/30\n",
            "100/100 [==============================] - 6s 62ms/step - loss: 0.0404 - acc: 0.9895 - val_loss: 1.1119 - val_acc: 0.7100\n"
          ],
          "name": "stdout"
        }
      ]
    },
    {
      "cell_type": "code",
      "metadata": {
        "id": "MZaZ2HWZsNUi",
        "colab_type": "code",
        "outputId": "116f1314-60e4-4219-eab5-cce799ceb43f",
        "colab": {
          "base_uri": "https://localhost:8080/",
          "height": 545
        }
      },
      "source": [
        "model.save('whale.h5')\n",
        "\n",
        "import matplotlib.pyplot as plt\n",
        "\n",
        "acc = history.history['acc']\n",
        "val_acc = history.history['val_acc']\n",
        "loss = history.history['loss']\n",
        "val_loss = history.history['val_loss']\n",
        "\n",
        "epochs = range(1, len(acc) + 1)\n",
        "\n",
        "plt.plot(epochs, acc, 'bo', label='Training acc')\n",
        "plt.plot(epochs, val_acc, 'b', label='Validation acc')\n",
        "plt.title('Training and validation accuracy')\n",
        "plt.legend()\n",
        "\n",
        "plt.figure()\n",
        "\n",
        "plt.plot(epochs, loss, 'bo', label='Training loss')\n",
        "plt.plot(epochs, val_loss, 'b', label='Validation loss')\n",
        "plt.title('Training and validation loss')\n",
        "plt.legend()\n",
        "\n",
        "plt.show()"
      ],
      "execution_count": 0,
      "outputs": [
        {
          "output_type": "display_data",
          "data": {
            "image/png": "[encoded data removed]",
            "text/plain": [
              "<Figure size 432x288 with 1 Axes>"
            ]
          },
          "metadata": {
            "tags": []
          }
        },
        {
          "output_type": "display_data",
          "data": {
            "image/png": "[encoded data removed]",
            "text/plain": [
              "<Figure size 432x288 with 1 Axes>"
            ]
          },
          "metadata": {
            "tags": []
          }
        }
      ]
    },
    {
      "cell_type": "code",
      "metadata": {
        "id": "wu3cqeYQrDeN",
        "colab_type": "code",
        "outputId": "e680ec10-5bf0-4cf1-b381-2ea11d16702b",
        "colab": {
          "base_uri": "https://localhost:8080/",
          "height": 102
        }
      },
      "source": [
        "model = models.Sequential()\n",
        "model.add(layers.Conv2D(32, (3, 3), activation='relu',\n",
        "input_shape=(150, 150, 3)))\n",
        "model.add(layers.MaxPooling2D((2, 2)))\n",
        "model.add(layers.Conv2D(64, (3, 3), activation='relu'))\n",
        "model.add(layers.MaxPooling2D((2, 2)))\n",
        "model.add(layers.Conv2D(128, (3, 3), activation='relu'))\n",
        "model.add(layers.MaxPooling2D((2, 2)))\n",
        "model.add(layers.Conv2D(128, (3, 3), activation='relu'))\n",
        "model.add(layers.MaxPooling2D((2, 2)))\n",
        "model.add(layers.Flatten())\n",
        "model.add(layers.Dropout(0.5))\n",
        "model.add(layers.Dense(512, activation='relu'))\n",
        "model.add(layers.Dense(1, activation='sigmoid'))\n",
        "\n",
        "model.compile(loss='binary_crossentropy',\n",
        "              optimizer=optimizers.RMSprop(lr=1e-4),\n",
        "              metrics=['acc'])"
      ],
      "execution_count": 0,
      "outputs": [
        {
          "output_type": "stream",
          "text": [
            "WARNING:tensorflow:From /usr/local/lib/python3.6/dist-packages/keras/backend/tensorflow_backend.py:148: The name tf.placeholder_with_default is deprecated. Please use tf.compat.v1.placeholder_with_default instead.\n",
            "\n",
            "WARNING:tensorflow:From /usr/local/lib/python3.6/dist-packages/keras/backend/tensorflow_backend.py:3733: calling dropout (from tensorflow.python.ops.nn_ops) with keep_prob is deprecated and will be removed in a future version.\n",
            "Instructions for updating:\n",
            "Please use `rate` instead of `keep_prob`. Rate should be set to `rate = 1 - keep_prob`.\n"
          ],
          "name": "stdout"
        }
      ]
    },
    {
      "cell_type": "code",
      "metadata": {
        "id": "QSeLpvY0rH7F",
        "colab_type": "code",
        "outputId": "0756705e-2a05-4e03-be8d-98e9b0a7af26",
        "colab": {
          "base_uri": "https://localhost:8080/",
          "height": 731
        }
      },
      "source": [
        "\n",
        "train_datagen = ImageDataGenerator(rescale=1./255,\n",
        "                                   rotation_range=40,\n",
        "                                   width_shift_range=0.2,\n",
        "                                   height_shift_range=0.2,\n",
        "                                   shear_range=0.2,\n",
        "                                   zoom_range=0.2,\n",
        "                                   horizontal_flip=True,)\n",
        "\n",
        "test_datagen = ImageDataGenerator(rescale=1./255)\n",
        "\n",
        "train_generator = train_datagen.flow_from_directory(train_dir,\n",
        "                                                    target_size=(150, 150),\n",
        "                                                    batch_size=32,\n",
        "                                                    class_mode='binary')\n",
        "\n",
        "validation_generator = test_datagen.flow_from_directory(validation_dir,\n",
        "                                                        target_size=(150, 150),\n",
        "                                                        batch_size=32,\n",
        "                                                        class_mode='binary')\n",
        "\n",
        "history = model.fit_generator(train_generator,\n",
        "                              steps_per_epoch=100,\n",
        "                              epochs=20,\n",
        "                              validation_data=validation_generator,\n",
        "                              validation_steps=50)"
      ],
      "execution_count": 0,
      "outputs": [
        {
          "output_type": "stream",
          "text": [
            "Found 2000 images belonging to 2 classes.\n",
            "Found 1000 images belonging to 2 classes.\n",
            "Epoch 1/20\n",
            "100/100 [==============================] - 28s 283ms/step - loss: 0.6926 - acc: 0.5275 - val_loss: 0.6818 - val_acc: 0.5812\n",
            "Epoch 2/20\n",
            "100/100 [==============================] - 26s 256ms/step - loss: 0.6806 - acc: 0.5606 - val_loss: 0.6608 - val_acc: 0.5979\n",
            "Epoch 3/20\n",
            "100/100 [==============================] - 25s 250ms/step - loss: 0.6710 - acc: 0.5756 - val_loss: 0.6885 - val_acc: 0.5387\n",
            "Epoch 4/20\n",
            "100/100 [==============================] - 25s 254ms/step - loss: 0.6557 - acc: 0.6116 - val_loss: 0.6353 - val_acc: 0.6237\n",
            "Epoch 5/20\n",
            "100/100 [==============================] - 24s 241ms/step - loss: 0.6394 - acc: 0.6219 - val_loss: 0.6510 - val_acc: 0.5952\n",
            "Epoch 6/20\n",
            "100/100 [==============================] - 27s 268ms/step - loss: 0.6216 - acc: 0.6503 - val_loss: 0.5976 - val_acc: 0.6669\n",
            "Epoch 7/20\n",
            "100/100 [==============================] - 25s 253ms/step - loss: 0.6058 - acc: 0.6653 - val_loss: 0.6023 - val_acc: 0.6745\n",
            "Epoch 8/20\n",
            "100/100 [==============================] - 25s 255ms/step - loss: 0.5970 - acc: 0.6706 - val_loss: 0.5937 - val_acc: 0.6772\n",
            "Epoch 9/20\n",
            "100/100 [==============================] - 25s 252ms/step - loss: 0.5932 - acc: 0.6906 - val_loss: 0.5690 - val_acc: 0.7049\n",
            "Epoch 10/20\n",
            "100/100 [==============================] - 25s 249ms/step - loss: 0.5775 - acc: 0.6963 - val_loss: 0.5484 - val_acc: 0.7075\n",
            "Epoch 11/20\n",
            "100/100 [==============================] - 26s 257ms/step - loss: 0.5742 - acc: 0.6997 - val_loss: 0.5482 - val_acc: 0.7081\n",
            "Epoch 12/20\n",
            "100/100 [==============================] - 26s 255ms/step - loss: 0.5577 - acc: 0.7081 - val_loss: 0.5318 - val_acc: 0.7253\n",
            "Epoch 13/20\n",
            "100/100 [==============================] - 25s 254ms/step - loss: 0.5601 - acc: 0.7228 - val_loss: 0.5803 - val_acc: 0.6952\n",
            "Epoch 14/20\n",
            "100/100 [==============================] - 26s 256ms/step - loss: 0.5658 - acc: 0.7122 - val_loss: 0.5240 - val_acc: 0.7310\n",
            "Epoch 15/20\n",
            "100/100 [==============================] - 25s 254ms/step - loss: 0.5398 - acc: 0.7259 - val_loss: 0.5166 - val_acc: 0.7481\n",
            "Epoch 16/20\n",
            "100/100 [==============================] - 25s 254ms/step - loss: 0.5448 - acc: 0.7297 - val_loss: 0.6229 - val_acc: 0.6675\n",
            "Epoch 17/20\n",
            "100/100 [==============================] - 24s 235ms/step - loss: 0.5330 - acc: 0.7291 - val_loss: 0.5125 - val_acc: 0.7411\n",
            "Epoch 18/20\n",
            "100/100 [==============================] - 27s 273ms/step - loss: 0.5375 - acc: 0.7122 - val_loss: 0.6973 - val_acc: 0.6263\n",
            "Epoch 19/20\n",
            "100/100 [==============================] - 25s 253ms/step - loss: 0.5275 - acc: 0.7400 - val_loss: 0.5341 - val_acc: 0.7208\n",
            "Epoch 20/20\n",
            "100/100 [==============================] - 25s 250ms/step - loss: 0.5336 - acc: 0.7241 - val_loss: 0.5025 - val_acc: 0.7474\n"
          ],
          "name": "stdout"
        }
      ]
    }
  ]
}