{
  "nbformat": 4,
  "nbformat_minor": 0,
  "metadata": {
    "colab": {
      "name": "CE888:Lab1.ipynb",
      "provenance": [],
      "collapsed_sections": [],
      "authorship_tag": "ABX9TyO1N3FIt2/smn3Y66t2iZP+",
      "include_colab_link": true
    },
    "kernelspec": {
      "name": "python3",
      "display_name": "Python 3"
    }
  },
  "cells": [
    {
      "cell_type": "markdown",
      "metadata": {
        "id": "view-in-github",
        "colab_type": "text"
      },
      "source": [
        "<a href=\"https://colab.research.google.com/github/Sirada99/CE888/blob/master/CE888_Lab1.ipynb\" target=\"_parent\"><img src=\"https://colab.research.google.com/assets/colab-badge.svg\" alt=\"Open In Colab\"/></a>"
      ]
    },
    {
      "cell_type": "markdown",
      "metadata": {
        "id": "7OqUrW2O0MPq",
        "colab_type": "text"
      },
      "source": [
        "#Lab1"
      ]
    },
    {
      "cell_type": "code",
      "metadata": {
        "id": "N9CNCUh4z3Y3",
        "colab_type": "code",
        "colab": {}
      },
      "source": [
        "import numpy as np\n"
      ],
      "execution_count": 0,
      "outputs": []
    },
    {
      "cell_type": "code",
      "metadata": {
        "id": "3-NQ3az71Nhr",
        "colab_type": "code",
        "colab": {
          "base_uri": "https://localhost:8080/",
          "height": 51
        },
        "outputId": "68a4e567-08c7-4343-a7f6-879ebee87148"
      },
      "source": [
        "\n",
        "#1) Create a (4 x 2) integer array and print it's attributes\n",
        "a = np.array([[2, 3, 4, 5],[6,8,11,7]])\n",
        "print(a)"
      ],
      "execution_count": 9,
      "outputs": [
        {
          "output_type": "stream",
          "text": [
            "[[ 2  3  4  5]\n",
            " [ 6  8 11  7]]\n"
          ],
          "name": "stdout"
        }
      ]
    },
    {
      "cell_type": "code",
      "metadata": {
        "id": "_fVR0mwl1_Ys",
        "colab_type": "code",
        "colab": {
          "base_uri": "https://localhost:8080/",
          "height": 51
        },
        "outputId": "b33fca98-8cb4-4ab3-b8f9-d724c2681b33"
      },
      "source": [
        "#2) Create an array of dimension (1,10) and sort it in ascending and descending order\n",
        "b=np.array([[11],[2],[1],[5],[4],[6],[7],[8],[9],[10]])\n",
        "d=np.sort(b, axis = None) \n",
        "print(d)\n",
        "f=d[::-1]\n",
        "print(f)"
      ],
      "execution_count": 26,
      "outputs": [
        {
          "output_type": "stream",
          "text": [
            "[ 1  2  4  5  6  7  8  9 10 11]\n",
            "[11 10  9  8  7  6  5  4  2  1]\n"
          ],
          "name": "stdout"
        }
      ]
    },
    {
      "cell_type": "code",
      "metadata": {
        "id": "i3BXNkL24o1x",
        "colab_type": "code",
        "colab": {
          "base_uri": "https://localhost:8080/",
          "height": 68
        },
        "outputId": "18a93e1d-fec5-4d82-df6b-528cfc2fe3d7"
      },
      "source": [
        "#3) Convert an 1D array [1 2 3 4 5 6 7 8 9] to 2D array [[1 2 3], [4 5 6], [7 8 9]]\n",
        "ar=[1,2,3,4,5,6,7,8,9] \n",
        "bb = np.reshape(ar, (-1, 3))\n",
        "bb"
      ],
      "execution_count": 29,
      "outputs": [
        {
          "output_type": "execute_result",
          "data": {
            "text/plain": [
              "array([[1, 2, 3],\n",
              "       [4, 5, 6],\n",
              "       [7, 8, 9]])"
            ]
          },
          "metadata": {
            "tags": []
          },
          "execution_count": 29
        }
      ]
    },
    {
      "cell_type": "code",
      "metadata": {
        "id": "yxVmbVjR5s9c",
        "colab_type": "code",
        "colab": {
          "base_uri": "https://localhost:8080/",
          "height": 119
        },
        "outputId": "01554d16-5d76-4c78-ef00-904ae9d565c1"
      },
      "source": [
        "#4) Stack two arrays of any size horizontally and vertically\n",
        "w=np.array([[1, 2, 3],\n",
        "       [4, 5, 6]])\n",
        "e = np.array([[2, 3, 5],[6,8,7],[11,9,7]])\n",
        "q=np.concatenate((w,e), axis=0)\n",
        "print(q)\n",
        "r=np.concatenate((w,e), axis=None)\n",
        "print(r)"
      ],
      "execution_count": 42,
      "outputs": [
        {
          "output_type": "stream",
          "text": [
            "[[ 1  2  3]\n",
            " [ 4  5  6]\n",
            " [ 2  3  5]\n",
            " [ 6  8  7]\n",
            " [11  9  7]]\n",
            "[ 1  2  3  4  5  6  2  3  5  6  8  7 11  9  7]\n"
          ],
          "name": "stdout"
        }
      ]
    },
    {
      "cell_type": "code",
      "metadata": {
        "id": "SLq6qDpX61la",
        "colab_type": "code",
        "colab": {
          "base_uri": "https://localhost:8080/",
          "height": 34
        },
        "outputId": "a02a730a-8867-4068-9e26-e1de0ff7b081"
      },
      "source": [
        "#5) Create two array of same size and find commom elements\n",
        "h=np.array([[1, 2, 3],\n",
        "       [4, 5, 6],\n",
        "       [7, 8, 9]])\n",
        "yy=np.array([[4, 2, 3],\n",
        "       [4, 8, 6],\n",
        "       [7, 10, 9]])\n",
        "z=np.intersect1d(h, yy)\n",
        "z"
      ],
      "execution_count": 43,
      "outputs": [
        {
          "output_type": "execute_result",
          "data": {
            "text/plain": [
              "array([2, 3, 4, 6, 7, 8, 9])"
            ]
          },
          "metadata": {
            "tags": []
          },
          "execution_count": 43
        }
      ]
    },
    {
      "cell_type": "code",
      "metadata": {
        "id": "KkJiS_WY9pg4",
        "colab_type": "code",
        "colab": {
          "base_uri": "https://localhost:8080/",
          "height": 85
        },
        "outputId": "08a18e30-a895-452c-85da-dc7320712ce2"
      },
      "source": [
        "#6) Create a 2D array of 5 by 5 and find the min and max values from each row and each column\n",
        "k=np.array([[1, 2, 3],\n",
        "           [4, 5, 6],\n",
        "           [7, 8, 3],\n",
        "           [11,10,9],\n",
        "           [17,6, 4]])\n",
        "mir=np.amin(k,axis=0)\n",
        "print(\"minimum each row= \",mir)\n",
        "mic=np.amin(k,axis=1)\n",
        "print(\"minimum each column= \",mic)\n",
        "mar=np.amax(k,axis=0)\n",
        "print(\"maximum each row= \",mar)\n",
        "mac=np.amax(k,axis=1)\n",
        "print(\"maximum each column= \",mac)"
      ],
      "execution_count": 49,
      "outputs": [
        {
          "output_type": "stream",
          "text": [
            "minimum each row=  [1 2 3]\n",
            "minimum each column=  [1 4 3 9 4]\n",
            "maximum each row=  [17 10  9]\n",
            "maximum each column=  [ 3  6  8 11 17]\n"
          ],
          "name": "stdout"
        }
      ]
    },
    {
      "cell_type": "code",
      "metadata": {
        "id": "yfzu2dePAB7O",
        "colab_type": "code",
        "colab": {
          "base_uri": "https://localhost:8080/",
          "height": 170
        },
        "outputId": "3ec93b9b-83b1-4357-d913-64f043d0044f"
      },
      "source": [
        "#7) Create an array of size 100 and compute the mean, median, standard deviation.\n",
        "np.random.seed(1)\n",
        "xa = np.random.randint(200,size=(1,100))\n",
        "print(xa)\n",
        "mea=np.mean(xa)\n",
        "print(\"Mean is: \",mea)\n",
        "med=np.median(xa)\n",
        "print(\"Median is: \",med)\n",
        "st=np.std(xa)\n",
        "print(\"standard deviation is: \",st)"
      ],
      "execution_count": 58,
      "outputs": [
        {
          "output_type": "stream",
          "text": [
            "[[ 37 140  72 137 133  79 192 144 129  71 134  25 178  20 101 146 139 156\n",
            "  157 142  50  68  96  86 141 137   7  63  61  22  57   1 128  60   8 141\n",
            "  115 175 121  30  71 131 198 149  49  57   3 196  24  43  76  26  52  80\n",
            "  109 115  41  15  64 196  25 111 135  26 153 104  22   9 195 126  23 125\n",
            "  100 155 165  57  83 166 136  32 162  10  23 143  87  25 199  92  74 190\n",
            "   46 160 151 183  65 113  77   3 128   6]]\n",
            "Mean is:  94.79\n",
            "Median is:  94.0\n",
            "standard deviation is:  57.646213232093565\n"
          ],
          "name": "stdout"
        }
      ]
    },
    {
      "cell_type": "code",
      "metadata": {
        "id": "uFuvqdhCCU8C",
        "colab_type": "code",
        "colab": {
          "base_uri": "https://localhost:8080/",
          "height": 34
        },
        "outputId": "c67ab7d0-873b-4931-84cb-c166811c14f5"
      },
      "source": [
        "#8) Normalize a 5x5 random matrix\n",
        "op=np.array([[1, 2, 3,7,10],\n",
        "           [4, 5, 6,2,13],\n",
        "           [7, 8, 3,16,1],\n",
        "           [11,10,9,4,2],\n",
        "           [17,6, 4,7,18]])\n",
        "\n",
        "cc=np.linalg.norm(op,ord=1)\n",
        "print(cc)"
      ],
      "execution_count": 59,
      "outputs": [
        {
          "output_type": "stream",
          "text": [
            "44.0\n"
          ],
          "name": "stdout"
        }
      ]
    },
    {
      "cell_type": "code",
      "metadata": {
        "id": "Ghq2PwQREChM",
        "colab_type": "code",
        "colab": {
          "base_uri": "https://localhost:8080/",
          "height": 731
        },
        "outputId": "7cb4808f-858e-4542-b048-ad93d0569ffc"
      },
      "source": [
        "#9) Consider an array of dimension (4,4,3), how to mulitply it by an array with dimensions (4,4)?\n",
        "bbb= np.random.randint(10,size=(4,4,3))\n",
        "bbc= np.random.randint(10,size=(4,4))\n",
        "print(\"matrix bbb\",bbb)\n",
        "print(\"matrix bbc\",bbc)\n",
        "mul=np.dot(bbc,bbb)\n",
        "print(\"matrix multiply\",mul)"
      ],
      "execution_count": 65,
      "outputs": [
        {
          "output_type": "stream",
          "text": [
            "matrix bbb [[[5 9 6]\n",
            "  [4 9 8]\n",
            "  [7 5 1]\n",
            "  [8 0 5]]\n",
            "\n",
            " [[3 9 0]\n",
            "  [4 8 6]\n",
            "  [2 4 3]\n",
            "  [2 0 0]]\n",
            "\n",
            " [[4 2 5]\n",
            "  [0 0 3]\n",
            "  [8 5 3]\n",
            "  [1 4 7]]\n",
            "\n",
            " [[3 2 2]\n",
            "  [2 6 6]\n",
            "  [0 1 5]\n",
            "  [6 5 8]]]\n",
            "matrix bbc [[8 5 5 7]\n",
            " [5 9 1 3]\n",
            " [9 3 3 3]\n",
            " [6 1 3 0]]\n",
            "matrix multiply [[[151 142 128]\n",
            "  [ 68 132  45]\n",
            "  [ 79  69 119]\n",
            "  [ 76  86 127]]\n",
            "\n",
            " [[ 92 131 118]\n",
            "  [ 59 121  57]\n",
            "  [ 31  27  76]\n",
            "  [ 51  80  93]]\n",
            "\n",
            " [[102 123  96]\n",
            "  [ 51 117  27]\n",
            "  [ 63  45  84]\n",
            "  [ 51  54  75]]\n",
            "\n",
            " [[ 55  78  47]\n",
            "  [ 28  74  15]\n",
            "  [ 48  27  42]\n",
            "  [ 20  21  33]]]\n"
          ],
          "name": "stdout"
        }
      ]
    }
  ]
}
